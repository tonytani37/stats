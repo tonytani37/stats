{
  "nbformat": 4,
  "nbformat_minor": 0,
  "metadata": {
    "colab": {
      "name": "スタッツデータ作成.ipynb ",
      "provenance": [],
      "collapsed_sections": [],
      "toc_visible": true,
      "include_colab_link": true
    },
    "kernelspec": {
      "name": "python3",
      "display_name": "Python 3"
    },
    "language_info": {
      "name": "python"
    }
  },
  "cells": [
    {
      "cell_type": "markdown",
      "metadata": {
        "id": "view-in-github",
        "colab_type": "text"
      },
      "source": [
        "<a href=\"https://colab.research.google.com/github/tonytani37/stats/blob/main/%E3%82%B9%E3%82%BF%E3%83%83%E3%83%84%E3%83%87%E3%83%BC%E3%82%BF%E4%BD%9C%E6%88%90.ipynb\" target=\"_parent\"><img src=\"https://colab.research.google.com/assets/colab-badge.svg\" alt=\"Open In Colab\"/></a>"
      ]
    },
    {
      "cell_type": "markdown",
      "metadata": {
        "id": "1U4jZqO9cwDw"
      },
      "source": [
        "# まずは前提条件\n",
        "Googleアカウントが必須です。\n",
        "\n",
        "ブラウザは最新のChromeの利用を強く推奨します。(Microsoft Edgeの最新版は大丈夫ですが、古いEdgeやIEは動かないかもしれません。FirefoxやSafariでは動作を確認しました。確認したブラウザはMacOS版です）"
      ]
    },
    {
      "cell_type": "markdown",
      "metadata": {
        "id": "z9YB5vUGa9Hr"
      },
      "source": [
        "## 注意事項\n",
        "### 処理自体は膨大な能力を持つGoogleクラウド上で実行されるので、目の前のパソコンが多少古くてもあまり心配することはありません。\n",
        "\n",
        "１．説明を読んで、上から順番に番号順に処理をしてください。\n",
        "\n",
        "２．処理はそれぞれの機能ごとに分けてありますので、今後修正したい場合にはその部分だけ差し替えればオーケーです。\n",
        "\n",
        "３．処理によっては実行するとその下によくわからない文字がずらずらと表示されるものとされないものがあります。どのタイミングで処理が終わったかわかりづらいかもしれないので、各処理が完了すると「x おわり」と表示するようにしていますで、そこまで我慢してください。（表示されるメッセージのnは処理の番号です）\n",
        "\n",
        "\n"
      ]
    },
    {
      "cell_type": "markdown",
      "metadata": {
        "id": "0l5AbnEBgkg3"
      },
      "source": [
        "# さあ、はじめましょう\n",
        "ここから処理が始まります。"
      ]
    },
    {
      "cell_type": "markdown",
      "metadata": {
        "id": "ObTBQNY4PHhR"
      },
      "source": [
        "### 最初にデータ化したいPDFファイルを入手します\n",
        "1-1 は自分のPCにあるPDFファイルを変換したい場合に使います。\n",
        "\n",
        "1-2 はよくわからないけどとりあえず練習用に試してみたい人向けに、Xリーグのホームページにある2019/8/24の富士通フロンティアーズ対IBM BigBlueの対戦のものがダウンロードされます。\n",
        "\n",
        "どちらか一つ、好きな方を実行してください。（1-1の場合は、以降使われるPDFファイル名や画像データ名が以下にあるものと異なるので、適宜変更してくださいね）\n",
        "\n",
        "# 初回の実行時に「これはGoogleが提供してないけど実行する？」的なメッセージが出るかも知れませんが、気にせず実行して下さい。"
      ]
    },
    {
      "cell_type": "markdown",
      "metadata": {
        "id": "YVn2bJvtQNcT"
      },
      "source": [
        "その１）自分のPCにあるPDFファイルを変換したい場合\n",
        "注意）ファイルは/content/直下にアップロードされますので、変換処理前に/content/pdf/に移動させてください"
      ]
    },
    {
      "cell_type": "code",
      "metadata": {
        "id": "leVVAUOrc46Y"
      },
      "source": [
        "# 1-1\n",
        "#OCRであつかうPDFファイルを読み込む（変換したいPC上のファイルを指定してくだされ）\n",
        "from google.colab import files\n",
        "!rm -r /content/pdf/\n",
        "!mkdir /content/pdf/\n",
        "\n",
        "f = files.upload()\n",
        "#読み込んだ画像のファイル名\n",
        "filename = list(f)[0]\n",
        "\n",
        "print('1-1 おわり')"
      ],
      "execution_count": null,
      "outputs": []
    },
    {
      "cell_type": "markdown",
      "metadata": {
        "id": "GaZIBzcHQSZE"
      },
      "source": [
        "その２）とりあえず試してみたい場合　"
      ]
    },
    {
      "cell_type": "code",
      "metadata": {
        "id": "E1pjztOfP8N9"
      },
      "source": [
        "# 1-2\n",
        "#OCRであつかうPDFファイルを読み込む（練習用に特定のPDFファイルをダウンロードしてくる）\n",
        "!rm -r /content/pdf/\n",
        "!mkdir /content/pdf/\n",
        "\n",
        "! wget -c -P '/content/pdf/' 'https://xleague.s3.ap-northeast-1.amazonaws.com/wp-content/uploads/2019/07/20190824_X1_FF_BB_921.pdf'\n",
        "# filename = \"20190824_X1_FF_BB_921.pdf\"\n",
        "\n",
        "print('1-2 おわり')"
      ],
      "execution_count": null,
      "outputs": []
    },
    {
      "cell_type": "markdown",
      "metadata": {
        "id": "IVU-xfCkNtVg"
      },
      "source": [
        "### データ変換のための準備を行います"
      ]
    },
    {
      "cell_type": "code",
      "metadata": {
        "id": "EAGP267sZB4D"
      },
      "source": [
        "# 2\n",
        "# PDFから画像へ変換するためのライブラリ、ツールとOCR読み込みに必要なツールをインストールします\n",
        "!apt-get install poppler-utils \n",
        "!pip install pdf2image\n",
        "\n",
        "!apt install tesseract-ocr\n",
        "!apt install libtesseract-dev\n",
        "!pip install pyocr\n",
        "\n",
        "#日本語トレーニングデータのダウンロードとして環境設定します\n",
        "!curl -L https://github.com/tesseract-ocr/tessdata/raw/master/jpn.traineddata > jpn.traineddata\n",
        "!cp jpn.traineddata /usr/share/tesseract-ocr/4.00/tessdata\n",
        "\n",
        "# PythonでOCR読み込み変換に必要なライブラリを準備します\n",
        "from PIL import Image\n",
        "import pyocr\n",
        "import pyocr.builders\n",
        "\n",
        "print('4 おわり')"
      ],
      "execution_count": null,
      "outputs": []
    },
    {
      "cell_type": "markdown",
      "metadata": {
        "id": "S2TkUG4z_mGt"
      },
      "source": [
        "### 画像データへ変換する処理を行います"
      ]
    },
    {
      "cell_type": "code",
      "metadata": {
        "id": "bX0BTtORaolH"
      },
      "source": [
        "# 3\n",
        "# 画像データに変換する処理\n",
        "from pathlib import Path\n",
        "from pdf2image import convert_from_path\n",
        "import glob\n",
        "\n",
        "# Google Colabのデフォルト環境内にimageというフォルダを作る\n",
        "!rm -r /content/image/\n",
        "!mkdir /content/image/\n",
        "\n",
        "def pdf2img(filename):\n",
        "    pdf_path = Path(filename)\n",
        "    #outputのファイルパス（この場合は上でつくったimageフォルダを指定）\n",
        "    img_path=Path(\"/content/image/\")\n",
        "\n",
        "    #変換されたjpegファイルがimg_pathで指定されたフォルダに保存されます\n",
        "    convert_from_path(pdf_path, output_folder=img_path,fmt='jpeg',output_file=pdf_path.stem)\n",
        "\n",
        "#フォルダにあるPDFファイルの一覧を取得する\n",
        "pdf_list = glob.glob('/content/pdf/*.pdf')\n",
        "\n",
        "for row in pdf_list:\n",
        "    pdf2img(row)\n",
        "\n",
        "print('3 おわり')"
      ],
      "execution_count": null,
      "outputs": []
    },
    {
      "cell_type": "markdown",
      "metadata": {
        "id": "ElrGaxyMN7HG"
      },
      "source": [
        "### 以上で画像変換完了。\n",
        "/content/image/フォルダにたくさんの画像ファイル(...jpg)が作られているはずです。"
      ]
    },
    {
      "cell_type": "markdown",
      "metadata": {
        "id": "LdYp8pLyOjmY"
      },
      "source": [
        "### ここからOCRからデータ抽出処理です。"
      ]
    },
    {
      "cell_type": "code",
      "metadata": {
        "id": "haMQ6aWDeOxw"
      },
      "source": [
        "# 4\n",
        "#読み込んだ画像をOCRでテキスト抽出。\n",
        "\n",
        "# OCR処理のためのインスタンス作成\n",
        "tools = pyocr.get_available_tools()\n",
        "tool = tools[0]\n",
        "langs = tool.get_available_languages()\n",
        "\n",
        "#うまく変換できなかった文字を強制的に置き換えるための文字候補一覧\n",
        "conv_text = {\"①\":\"1\",\"②\":\"2\",\"③\":\"3\",\"④\":\"4\",\"⑤\":\"5\",\"⑥\":\"6\",\"⑦\":\"7\",\"⑧\":\"8\",\"⑨\":\"9\",\n",
        "             \"⑩\":\"10\",\"⑪\":\"11\",\"⑫\":\"12\",\"⑬\":\"13\",\"⑭\":\"14\",\"⑮\":\"15\",\n",
        "             \"⑯\":\"16\",\"⑰\":\"17\",\"⑱\":\"18\",\"⑲\":\"19\",\"⑳\":\"20\",',':'',\"&\":\"\",\"-\":\"\",\n",
        "             \"PASS\":\"PASS\",\"RUN\":\"RUN\",\"FG\":\"FG\",\"PUNT\":\"PUNT\",\"し\":\"L\",\"、\":\" \"}\n",
        "\n",
        "#テキストを保存するフォルダの作成\n",
        "!rm -r /content/ocr/\n",
        "!mkdir /content/ocr/\n",
        "\n",
        "\n",
        "def ocr2txt(fname):\n",
        "    txt = tool.image_to_string(\n",
        "        Image.open(fname),\n",
        "        lang=\"jpn\",\n",
        "        builder=pyocr.builders.TextBuilder(tesseract_layout=6)\n",
        "        )\n",
        "    # プレーに関係ありそうな文字として　\"&\",'Penalty','Kick-off','Extra Point','TIMEOUT','Quarter'が含まれる行だけ抽出する\n",
        "    # そのほかの特定文字も抽出対象としたい場合は ifの次に or ('' & in line) を追加挿入し、''の間に含めたい文字列を指定するとできますよ\n",
        "    return  [line for line in txt.splitlines() if ('&' in line) or ('Penalty' in line) or ('Kick-off' in line) or ('Extra Point' in line) or ('TIMEOUT' in line) or (':' in line) or ('Quarter' in line)]\n",
        "    \n",
        "def num_conv(line):\n",
        "    for ct in conv_text:\n",
        "        line = line.replace(ct,conv_text[ct])\n",
        "    return line\n",
        "\n",
        "\n",
        "#フォルダに出力された画像ファイルの一覧を取得\n",
        "jpg_list = glob.glob('/content/image/*.jpg')\n",
        "\n",
        "#画像ファイルをからOCRでデータ化し、それを一つのファイルにまとめる\n",
        "output_file = []\n",
        "for row in sorted(jpg_list):\n",
        "    output_file.append([row1.replace(' ','') for row1 in [num_conv(out_txt) for out_txt in ocr2txt(row)]])\n",
        "\n",
        "output_txt = ''\n",
        "for x in output_file:\n",
        "    for z in x:\n",
        "        output_txt += z+'\\n'\n",
        "\n",
        "\n",
        "#最後にテキストファイルを（とりあえず）出力してなくさないようにする\n",
        "output_file_txt = '/content/ocr/'+jpg_list[0][15:-4]\n",
        "with open(output_file_txt,mode='w') as f:\n",
        "    f.write(output_txt)\n",
        "\n",
        "print('4 おわり')"
      ],
      "execution_count": null,
      "outputs": []
    },
    {
      "cell_type": "markdown",
      "metadata": {
        "id": "mgYpTTW_AanA"
      },
      "source": [
        "### OCRで読み込んだデータをCSV形式に変換します"
      ]
    },
    {
      "cell_type": "code",
      "metadata": {
        "id": "J0h0PzJ1M9N9"
      },
      "source": [
        "# 5\n",
        "import re\n",
        "import glob\n",
        "import pandas as pd \n",
        "\n",
        "# 読み込むチームデータを設定します。{'チーム名の先頭から５文字':'チームの略称'}\n",
        "team_name ={'富士通フロ':'FF'\n",
        "                ,'IBMBi':'BB'\n",
        "                ,'パナソニッ':'PI'\n",
        "                ,'エレコム神':'EF'\n",
        "                ,'オービック':'OS'\n",
        "                ,'東京ガスク':'TG'\n",
        "                ,'オール三菱':'OM'\n",
        "                ,'ノジマ相模':'NR'\n",
        "                ,\n",
        "            }\n",
        "\n",
        "tname = [row for row in team_name.values()]\n",
        "\n",
        "filename = glob.glob('/content/ocr/*')[0]\n",
        "\n",
        "with open(filename,mode='r',encoding='UTF-8') as f:\n",
        "    file_in = f.readlines()\n",
        "\n",
        "in_list = [row for row in file_in]\n",
        "\n",
        "def find(s,q,t):\n",
        "    team = t\n",
        "    qt = q\n",
        "    fp_all = fp.group()\n",
        "    fieldpos = fp_all[:2]\n",
        "    y = re.search(r'\\d+',fp_all[2:])\n",
        "    yardline = y.group()\n",
        "    hash = fp_all[-1]\n",
        "    down = s[:1] \n",
        "    tg = re.search(r'\\d\\d',s[2:])\n",
        "    if tg is not None:\n",
        "        togo = tg.group()\n",
        "    else:\n",
        "        togo = 0\n",
        "    yd = re.search(r'-*\\d+y',s)\n",
        "    if yd is not None:\n",
        "        if 'ロス' in s:\n",
        "            yards = 0 - int(yd.group()[:-1])\n",
        "        else:\n",
        "            yards = yd.group()[:-1]\n",
        "    else:\n",
        "        yards = 0\n",
        "    if 'RUN' in s:\n",
        "        play = 'RUN'\n",
        "    elif 'PASS' in s:\n",
        "        play = 'PASS'\n",
        "    elif 'PUNT' in s:\n",
        "        play = 'PUNT'\n",
        "    else:\n",
        "        play = 'None'\n",
        "    if team != fieldpos:\n",
        "        yardline = 100- int(yardline)\n",
        "    other = s.replace(',','')\n",
        "    other = other.replace('\\n','')\n",
        "    return qt,team,int(down),int(togo),fieldpos,int(yardline),hash,play,int(yards),other\n",
        "\n",
        "def set_q(s):\n",
        "    fq,sq,tq,yd = '','','',''\n",
        "    fq = re.search(r'First', s)\n",
        "    sq = re.search(r'Second', s)        \n",
        "    tq = re.search(r'Third', s)        \n",
        "    yq = re.search(r'Fourth', s)\n",
        "    if fq:\n",
        "        q = 1\n",
        "    elif sq:\n",
        "        q = 2\n",
        "    elif tq:\n",
        "        q = 3\n",
        "    elif yq:\n",
        "        q = 4\n",
        "    return q\n",
        "\n",
        "def team(s):\n",
        "    for row in team_name:\n",
        "        if row in s[:5]:\n",
        "            return team_name[row]\n",
        "\n",
        "lines_strip_output = []\n",
        "team_set = set()\n",
        "for s in in_list:\n",
        "    quarter = re.search(r'Quarter', s)\n",
        "    if quarter:\n",
        "        q = set_q(s)\n",
        "    tm = team(s)\n",
        "    if tm is not None:\n",
        "        t = tm\n",
        "        team_set.add(t)\n",
        "    fp = re.search(r'\\w\\w\\d+[LMR]', s)\n",
        "    if fp:\n",
        "        f = find(s,q,t)\n",
        "    else:\n",
        "        f = s[:-1],0,0,0,0,0,0,0\n",
        "    if f is not None:\n",
        "        lines_strip_output.append(f)\n",
        "\n",
        "output_csv = pd.DataFrame(lines_strip_output,columns=['quarter','offence','down','togo','side','yardline','hash','play','yards','other'])\n",
        "output_csv[(output_csv['offence']==list(team_set)[0])|(output_csv['offence']==list(team_set)[1])].to_csv(filename[14:]+'.csv',index=False)\n",
        "\n",
        "print('5 おわり')"
      ],
      "execution_count": null,
      "outputs": []
    }
  ]
}