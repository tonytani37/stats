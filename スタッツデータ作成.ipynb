{
  "nbformat": 4,
  "nbformat_minor": 0,
  "metadata": {
    "colab": {
      "name": "スタッツデータ作成.ipynb",
      "provenance": [],
      "collapsed_sections": [],
      "toc_visible": true,
      "authorship_tag": "ABX9TyPZKy2eGxeryKcMoYaW5/VA",
      "include_colab_link": true
    },
    "kernelspec": {
      "name": "python3",
      "display_name": "Python 3"
    },
    "language_info": {
      "name": "python"
    }
  },
  "cells": [
    {
      "cell_type": "markdown",
      "metadata": {
        "id": "view-in-github",
        "colab_type": "text"
      },
      "source": [
        "<a href=\"https://colab.research.google.com/github/tonytani37/stats/blob/main/%E3%82%B9%E3%82%BF%E3%83%83%E3%83%84%E3%83%87%E3%83%BC%E3%82%BF%E4%BD%9C%E6%88%90.ipynb\" target=\"_parent\"><img src=\"https://colab.research.google.com/assets/colab-badge.svg\" alt=\"Open In Colab\"/></a>"
      ]
    },
    {
      "cell_type": "markdown",
      "metadata": {
        "id": "IVU-xfCkNtVg"
      },
      "source": [
        "### まずはPDFから画像へ変換します"
      ]
    },
    {
      "cell_type": "code",
      "metadata": {
        "id": "C5NhxslFWovy"
      },
      "source": [
        "# PDFから画像へ変換するためのライブラリ、ツールをインストールする\n",
        "!apt-get install poppler-utils \n",
        "!pip install pdf2image"
      ],
      "execution_count": null,
      "outputs": []
    },
    {
      "cell_type": "code",
      "metadata": {
        "id": "leVVAUOrc46Y"
      },
      "source": [
        "#OCRであつかうPDFファイルを読み込む（PC上のファイルを指定してくだされ）\n",
        "from google.colab import files\n",
        "f = files.upload()\n",
        "#読み込んだ画像のファイル名\n",
        "filename = list(f)[0]"
      ],
      "execution_count": null,
      "outputs": []
    },
    {
      "cell_type": "code",
      "metadata": {
        "id": "bX0BTtORaolH"
      },
      "source": [
        "# 画像データに変換\n",
        "from pathlib import Path\n",
        "from pdf2image import convert_from_path\n",
        "\n",
        "# Google Colabのデフォルト環境内にimageというフォルダを作る\n",
        "!mkdir /content/image/\n",
        "\n",
        "pdf_path = Path(filename)\n",
        "#outputのファイルパス（この場合は上でつくったimageフォルダを指定）\n",
        "img_path=Path(\"/content/image/\")\n",
        "\n",
        "#変換されたjpegファイルが保存されます\n",
        "convert_from_path(pdf_path, output_folder=img_path,fmt='jpeg',output_file=pdf_path.stem)\n"
      ],
      "execution_count": null,
      "outputs": []
    },
    {
      "cell_type": "markdown",
      "metadata": {
        "id": "ElrGaxyMN7HG"
      },
      "source": [
        "### 以上で画像変換完了。PDFに複数ページがある場合、ページごとに画像データ（ファイル名末尾が連番）が作成されるので、一つのPDFファイルから複数の画像ファイルが作成されたとしても、驚かないこと。"
      ]
    },
    {
      "cell_type": "markdown",
      "metadata": {
        "id": "1fXjEWqCNm-c"
      },
      "source": [
        "### ここからOCR読み込み\n",
        "まずはOCR読み込み用のライブラリとツールをインストールします"
      ]
    },
    {
      "cell_type": "code",
      "metadata": {
        "id": "EAGP267sZB4D"
      },
      "source": [
        "# Tesseract OCRの関連ライブラリーとPythonラッパーをインストール\n",
        "# OCR読み込みに必要なツールをインストールします\n",
        "!apt install tesseract-ocr\n",
        "!apt install libtesseract-dev\n",
        "!pip install pyocr"
      ],
      "execution_count": null,
      "outputs": []
    },
    {
      "cell_type": "code",
      "metadata": {
        "id": "BHwdTN3PZLoc"
      },
      "source": [
        " #日本語トレーニングデータのダウンロードとインストール\n",
        "!curl -L https://github.com/tesseract-ocr/tessdata/raw/master/jpn.traineddata > jpn.traineddata\n",
        "!cp jpn.traineddata /usr/share/tesseract-ocr/4.00/tessdata"
      ],
      "execution_count": null,
      "outputs": []
    },
    {
      "cell_type": "code",
      "metadata": {
        "id": "FXoCx9rLZR4n"
      },
      "source": [
        "#モジュールをインポート\n",
        "from PIL import Image\n",
        "import sys\n",
        "import pyocr\n",
        "import pyocr.builders"
      ],
      "execution_count": 137,
      "outputs": []
    },
    {
      "cell_type": "markdown",
      "metadata": {
        "id": "zbZOm_6eOWLX"
      },
      "source": [
        "### OCR読み込みの前に、必要なツールがインストールされているか確認しませう。\n",
        "うまくいかない場合は環境構築が間違っているので、最初からもう一度がんばろう"
      ]
    },
    {
      "cell_type": "markdown",
      "metadata": {
        "id": "DcjK7gd2XROO"
      },
      "source": [
        "OCR tool is 'Tesseract (sh)' と表示されればオーケー"
      ]
    },
    {
      "cell_type": "code",
      "metadata": {
        "id": "JJIfOdP4ZXTV"
      },
      "source": [
        "#OCRが使用可能かの設定状態チェック\n",
        "tools = pyocr.get_available_tools()\n",
        "if len(tools) == 0:\n",
        "    print(\"OCR tool is not found\")\n",
        "    sys.exit(1)\n",
        "\n",
        "#OCRツール名を表示\n",
        "tool = tools[0]\n",
        "print(\"OCR tool is '%s'\" % (tool.get_name()))"
      ],
      "execution_count": null,
      "outputs": []
    },
    {
      "cell_type": "markdown",
      "metadata": {
        "id": "VC_wIocpXWYn"
      },
      "source": [
        "Available languages:　の次に　jpn　が入ってればオーケー（その他 osd,engなどもあるはず。もしかするとないものもあるかもしれないけど、とりあえず jpn が入っていればオーケー）"
      ]
    },
    {
      "cell_type": "code",
      "metadata": {
        "id": "47wmY8pRZeMV"
      },
      "source": [
        "#OCR対応言語を表示\n",
        "langs = tool.get_available_languages()\n",
        "print(\"Available languages: %s\" % \", \".join(langs))\n",
        "lang = langs[0]\n",
        "print(\"Will use lang '%s'\" % (lang))"
      ],
      "execution_count": null,
      "outputs": []
    },
    {
      "cell_type": "markdown",
      "metadata": {
        "id": "LdYp8pLyOjmY"
      },
      "source": [
        "### ここから実際のOCR読み込み処理です。\n",
        "ここでは、fnameという変数にファイルのパスをセットしています。Google Colaboでは画面左側に作成されたファイルを扱うので、'/content/以降の部分に読み込みたい画像ファイル名(pathも正しく指定してね)を指定してください。ファイル名とパスの指定は、読み込みたいファイルを右クリックすると「パスをコピー」という項目があるので、そいつをクリックしてコピーし、fname = 以降に”または’のどちらかで囲って、その間にペーストすればオーケーです。\n",
        "(次は複数ファイルを一括で読み込む仕掛けも考えます）"
      ]
    },
    {
      "cell_type": "code",
      "metadata": {
        "id": "haMQ6aWDeOxw"
      },
      "source": [
        " #読み込んだ画像をOCRでテキスト抽出。\n",
        "\n",
        "#読み込む画像ファイルを指定する\n",
        "fname = '/content/image/20201215_X1_FF_OS_590001-6.jpg'\n",
        "\n",
        "txt = tool.image_to_string(\n",
        "    Image.open(fname),\n",
        "    lang=\"jpn\",\n",
        "    builder=pyocr.builders.TextBuilder(tesseract_layout=6)\n",
        "    )\n",
        "\n",
        "# プレーに関係ありそうな文字として　\"&\",'Penalty','Kick-off','Extra Point','TIMEOUT','Quarter'が含まれる行だけ抽出する\n",
        "lines_strip = [line for line in txt.splitlines() if ('&' in line) or ('Penalty' in line) or ('Kick-off' in line) or ('Extra Point' in line) or ('TIMEOUT' in line) or (':' in line) or ('Quarter' in line)]"
      ],
      "execution_count": 145,
      "outputs": []
    },
    {
      "cell_type": "markdown",
      "metadata": {
        "id": "qwvIjI36SVmz"
      },
      "source": [
        "### なんだか数字の読み取りがうまくいってない様子なので、マル付き数字をむりやり半角数字（str）に置き換える\n",
        "うまくいっている場合にこれを動かしても（あえてマル付き数字を使っている場合以外は）なんの影響もないので、とりあえず動かしてみてください。"
      ]
    },
    {
      "cell_type": "code",
      "metadata": {
        "id": "-Yz_rfcRBcZb",
        "colab": {
          "base_uri": "https://localhost:8080/"
        },
        "outputId": "4f6a052c-0b1e-4105-8774-df4e7f6d13ff"
      },
      "source": [
        "# 置き換わらないマル数字（やその他の文字）が出てきたら、conv_text辞書に追加してね。形式は辞書のkey:valueです）\n",
        "conv_text = {\"①\":\"1\",\"②\":\"2\",\"③\":\"3\",\"④\":\"4\",\"⑤\":\"5\",\"⑥\":\"6\",\"⑦\":\"7\",\"⑧\":\"8\",\"⑨\":\"9\",\n",
        "             \"⑩\":\"10\",\"⑪\":\"11\",\"⑫\":\"12\",\"⑬\":\"13\",\"⑭\":\"14\",\"⑮\":\"15\",\n",
        "             \"⑯\":\"16\",\"⑰\":\"17\",\"⑱\":\"18\",\"⑲\":\"19\",\"⑳\":\"20\"}\n",
        "\n",
        "def num_conv(line):\n",
        "    for ct in conv_text:\n",
        "        line = line.replace(ct,conv_text[ct])\n",
        "    return line\n",
        "\n",
        "lines_strip_after =  [''.join(a.split(' ')) for a in [num_conv(line) for line in lines_strip]]\n",
        "\n",
        "# 変換した結果を試し打ち\n",
        "for a in lines_strip_after[1:-2]:\n",
        "    print(a)"
      ],
      "execution_count": 178,
      "outputs": [
        {
          "output_type": "stream",
          "text": [
            "PlaybyPlayFirstQuarter\n",
            "0S35Kick-off_紅2山崎丈路キック…FF0,#9宜本潤平23yリターン(#47高橋悟)\n",
            "富士通フロンティアーズ12:00\n",
            "1&10-FF23MRUN#29サマジーグラント12yランR1\n",
            "1&10-FF35L_RUN_#3マイケルバードソン7yラン(#23ByronBeattyJr)\n",
            "2&3-FF42LPASS#3マイケルバードソン一#22岩松慰封6yパス(#21BronsonBeatty,#13岩本卓也P2\n",
            "1&10-FF48MPASS#3マイケルバードソンー#9宜本潤平3yパス(#4久保颯)\n",
            "2&7-049RPASS。#3マイケルパードソンパス失敗\n",
            "3&7-0549RPASS#3マイケルパードソン一#81中村輝晃クラーク6yパス(#27田中雄大\n",
            "TIMEOUT富士通フロンティアーズ1回目\n",
            "4&1-0S43RPUNT#39吉田元紀パント…0S9,#7池井勇輝フェァアキャッチ\n",
            "オービックシーガルズ9:28\n",
            "1&10-089LRUN紅1JimmyLaughrea6yラン(#91斉川尚之)\n",
            "2&4-0S15LRUN#29李卓29ラン(#S5竹内修平)\n",
            "3&2-0S17LPASS紅1JimmyLaughrea一#85HoldenHuff5yパス(#49久下裕一朗P1\n",
            "1&10-0S22し_RUN紅1JimmyLaughreaQBサック-5yロス(#91斉川尚之\n",
            "2&15-0S17L_RUN#29李卓29ラン(#43井本健一朗,#23奥田凌大)\n",
            "3&13-0S19RPASS紅1JimmyLaughrea一#7池井勇輝11yパス(#34樋田祥一\n",
            "4&2-0S30し_PUNT#8長尾健パント…FF30,約3高津佐隼矢フェアキャッチ\n",
            "富士通フロンティアーズ5:27\n",
            "1&10-FF30RPASS#3マイケルパードソンつ#22岩松墓封0yパス(#6三宅剛司)-NoPlay\n",
            "+Penalty0S如6パスインターフェア8y罰退x8\n",
            "1.&10-FF38L_PASS#3マイケルバードソンパス失敗\n",
            "2&10-FF38LPASS_#3マイケルバードソン一#87水野悠司6yパス(紅6三宅剛司\n",
            "3&4-FF44MRUN#3マイケルパードソン24yランR4\n",
            "1.&10-0S32M_PASS#3マイケルバードソンパス失敗\n",
            "2&10-0832M_PASS#3マイケルバードソン一#29サマジーグラント10yパス(#4久保颯)P5\n",
            "1&10-0S22R_PASS#3マイケルバードソンパス失敗,INTERCEPT#21BronsonBeatty…0S15,7yリターン\n",
            "オービックシーガルズ3:37\n",
            "1&10-0822LRUN_#29李卓7ラン(#35竹内修平,#91斉川尚之)\n",
            "2&3-0S29L_PASS紅1JimmyLaughrea一#85HoldenHuff18yパスP2\n",
            "1&10-0S47し。RUN#29李卓99ラン(#7藤田篤,#35竹内修平)\n",
            "2&1-FF44MPASS紅1JimmyLaughrea一#84西村有斗43yパスP3\n",
            "1&G-FF1RRUN_#29李卓17ラン,TOUCHDOWN\n",
            "ExtraPoint、#12山崎丈路キック(H/#8長尾健),G00D\n",
            "0S35Kick-off_細2山崎丈路キック,タッチバック\n",
            "富士通フロンティアーズ1:21\n",
            "1&10-FF25RRUN#29サマジーグラント1yラン(#99中田善博\n",
            "2&9-FF26RRUN#29サマジーグラント-2yラン(約4成瀬圭汰)\n",
            "3&11-FF24M_PASS。#3マイケルパードソンパス失敗\n",
            "4&11-FF24M_PUNT#39吉田元紀パント…0S29,#7池井勇輝13yリターン\n"
          ],
          "name": "stdout"
        }
      ]
    },
    {
      "cell_type": "markdown",
      "metadata": {
        "id": "RNmAta3FRrcf"
      },
      "source": [
        "### おまけ\n",
        "PDFからデータ化した結果を出力したりしますよ"
      ]
    },
    {
      "cell_type": "code",
      "metadata": {
        "id": "NdRJtSFCcLkw",
        "colab": {
          "base_uri": "https://localhost:8080/",
          "height": 17
        },
        "outputId": "9ff9b598-08b3-41ce-c1cf-aa9c93824017"
      },
      "source": [
        "# OCR処理をした結果文を出力したいときに使う（左側にstats.txtという名前のファイルができる）\n",
        "\n",
        "# 同じファイル名で繰り返し処理をすると上書きされるので、複数ファイルを扱うとkにはtxt_nameにファイル名を指定してね\n",
        "txt_name = \"stats01.txt\"\n",
        "\n",
        "from google.colab import files\n",
        "import pandas as pd\n",
        "\n",
        "# いろいろいじくってリストにしたのでpandasを使って出力する\n",
        "df = pd.DataFrame(lines_strip_after)\n",
        "df.to_csv(txt_name,header=False,index=False)\n",
        "\n",
        "\n",
        "# 続いて作成されたファイルをダウンロードしようとします\n",
        "# ダウンロードしたくない場合には以下の行をコメントにするか、保存画面が出てきたらキャンセルするとかしてね\n",
        "files.download(txt_name)"
      ],
      "execution_count": 179,
      "outputs": [
        {
          "output_type": "display_data",
          "data": {
            "application/javascript": [
              "\n",
              "    async function download(id, filename, size) {\n",
              "      if (!google.colab.kernel.accessAllowed) {\n",
              "        return;\n",
              "      }\n",
              "      const div = document.createElement('div');\n",
              "      const label = document.createElement('label');\n",
              "      label.textContent = `Downloading \"${filename}\": `;\n",
              "      div.appendChild(label);\n",
              "      const progress = document.createElement('progress');\n",
              "      progress.max = size;\n",
              "      div.appendChild(progress);\n",
              "      document.body.appendChild(div);\n",
              "\n",
              "      const buffers = [];\n",
              "      let downloaded = 0;\n",
              "\n",
              "      const channel = await google.colab.kernel.comms.open(id);\n",
              "      // Send a message to notify the kernel that we're ready.\n",
              "      channel.send({})\n",
              "\n",
              "      for await (const message of channel.messages) {\n",
              "        // Send a message to notify the kernel that we're ready.\n",
              "        channel.send({})\n",
              "        if (message.buffers) {\n",
              "          for (const buffer of message.buffers) {\n",
              "            buffers.push(buffer);\n",
              "            downloaded += buffer.byteLength;\n",
              "            progress.value = downloaded;\n",
              "          }\n",
              "        }\n",
              "      }\n",
              "      const blob = new Blob(buffers, {type: 'application/binary'});\n",
              "      const a = document.createElement('a');\n",
              "      a.href = window.URL.createObjectURL(blob);\n",
              "      a.download = filename;\n",
              "      div.appendChild(a);\n",
              "      a.click();\n",
              "      div.remove();\n",
              "    }\n",
              "  "
            ],
            "text/plain": [
              "<IPython.core.display.Javascript object>"
            ]
          },
          "metadata": {
            "tags": []
          }
        },
        {
          "output_type": "display_data",
          "data": {
            "application/javascript": [
              "download(\"download_c4676cd5-0b3b-48b5-b00a-269a413614fa\", \"stats01.txt\", 2810)"
            ],
            "text/plain": [
              "<IPython.core.display.Javascript object>"
            ]
          },
          "metadata": {
            "tags": []
          }
        }
      ]
    }
  ]
}